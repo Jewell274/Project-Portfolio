{
  "nbformat": 4,
  "nbformat_minor": 0,
  "metadata": {
    "colab": {
      "provenance": [],
      "machine_shape": "hm",
      "gpuType": "A100"
    },
    "kernelspec": {
      "name": "python3",
      "display_name": "Python 3"
    },
    "language_info": {
      "name": "python"
    },
    "accelerator": "GPU"
  },
  "cells": [
    {
      "cell_type": "markdown",
      "source": [
        "Study and then execute the following code which runs a classification ensemble model on the Iris dataset and generates various metrics"
      ],
      "metadata": {
        "id": "tfdjnqQ_WJ_s"
      }
    },
    {
      "cell_type": "code",
      "source": [
        "#LIBRARIES\n",
        "import numpy as np\n",
        "import pandas as pd\n",
        "\n",
        "import matplotlib.pyplot as plt\n",
        "\n",
        "from sklearn.datasets import load_iris\n",
        "\n",
        "from sklearn.model_selection import cross_val_predict\n",
        "\n",
        "from sklearn.ensemble import RandomForestClassifier\n",
        "\n",
        "from sklearn.metrics import roc_curve, roc_auc_score, accuracy_score, balanced_accuracy_score, confusion_matrix\n",
        "from sklearn.metrics import precision_score, recall_score, f1_score"
      ],
      "metadata": {
        "id": "FM0dECLJWI1w"
      },
      "execution_count": 38,
      "outputs": []
    },
    {
      "cell_type": "code",
      "source": [
        "#confusion matrix\n",
        "def calculate_metrics(y_true, y_pred):\n",
        "    tn, fp, fn, tp = confusion_matrix(y_true, y_pred).ravel()\n",
        "    sensitivity = tp / (tp + fn)\n",
        "    specificity = tn / (tn + fp)\n",
        "    accuracy = accuracy_score(y_true, y_pred)\n",
        "    balanced_acc = balanced_accuracy_score(y_true, y_pred)\n",
        "\n",
        "    return sensitivity, specificity, accuracy, balanced_acc"
      ],
      "metadata": {
        "id": "XBS-18kMWaZM"
      },
      "execution_count": 33,
      "outputs": []
    },
    {
      "cell_type": "code",
      "source": [
        "# Load the Iris dataset\n",
        "\n",
        "iris = load_iris()\n",
        "X, y = iris.data, iris.target\n"
      ],
      "metadata": {
        "id": "hOWsyuVdWaj2"
      },
      "execution_count": 34,
      "outputs": []
    },
    {
      "cell_type": "code",
      "source": [
        "#examine data\n",
        "iris = load_iris()\n",
        "data = pd.DataFrame(iris.data, columns=iris.feature_names)\n",
        "data['target'] = iris.target\n",
        "print(data.info())"
      ],
      "metadata": {
        "colab": {
          "base_uri": "https://localhost:8080/"
        },
        "id": "hvsC4f7TKIwt",
        "outputId": "b3f00ff2-2f0a-4101-90be-0e3f950fc5c2"
      },
      "execution_count": 35,
      "outputs": [
        {
          "output_type": "stream",
          "name": "stdout",
          "text": [
            "<class 'pandas.core.frame.DataFrame'>\n",
            "RangeIndex: 150 entries, 0 to 149\n",
            "Data columns (total 5 columns):\n",
            " #   Column             Non-Null Count  Dtype  \n",
            "---  ------             --------------  -----  \n",
            " 0   sepal length (cm)  150 non-null    float64\n",
            " 1   sepal width (cm)   150 non-null    float64\n",
            " 2   petal length (cm)  150 non-null    float64\n",
            " 3   petal width (cm)   150 non-null    float64\n",
            " 4   target             150 non-null    int64  \n",
            "dtypes: float64(4), int64(1)\n",
            "memory usage: 6.0 KB\n",
            "None\n"
          ]
        }
      ]
    },
    {
      "cell_type": "code",
      "source": [
        "# Make it a binary classification problem: Virginica vs Others\n",
        "\n",
        "y = (y == 2).astype(int)\n",
        "\n",
        "\n",
        "\n",
        "# Add some noise to make the problem more challenging\n",
        "\n",
        "np.random.seed(21)\n",
        "\n",
        "X += np.random.normal(0, 0.5, X.shape)\n",
        "\n",
        "\n",
        "\n",
        "# Use Random Forest with fewer trees to reduce overfitting\n",
        "\n",
        "rf = RandomForestClassifier(n_estimators=10, max_depth=3, random_state=21)"
      ],
      "metadata": {
        "id": "I3lFMv54Warr"
      },
      "execution_count": 17,
      "outputs": []
    },
    {
      "cell_type": "code",
      "source": [
        "# Use cross-validation to get predictions\n",
        "\n",
        "y_pred_proba = cross_val_predict(rf, X, y, cv=5, method='predict_proba')[:, 1]\n",
        "\n",
        "\n",
        "\n",
        "# Calculate metrics with default threshold (0.5)\n",
        "\n",
        "y_pred_default = (y_pred_proba >= 0.5).astype(int)\n",
        "\n",
        "sensitivity_default, specificity_default, accuracy_default, balanced_acc_default = calculate_metrics(y, y_pred_default)"
      ],
      "metadata": {
        "id": "UX-kxvf7YJ0M"
      },
      "execution_count": 18,
      "outputs": []
    },
    {
      "cell_type": "code",
      "source": [
        "# Calculate ROC curve and AUC\n",
        "\n",
        "fpr, tpr, thresholds = roc_curve(y, y_pred_proba)\n",
        "\n",
        "auc = roc_auc_score(y, y_pred_proba)"
      ],
      "metadata": {
        "id": "WevtlefhYJ3S"
      },
      "execution_count": 19,
      "outputs": []
    },
    {
      "cell_type": "code",
      "source": [
        "# Print the distribution of target classes (species)\n",
        "class_distribution = data['target'].value_counts()\n",
        "print(class_distribution)"
      ],
      "metadata": {
        "colab": {
          "base_uri": "https://localhost:8080/"
        },
        "id": "CZvknlTPXC72",
        "outputId": "ef90b5d4-cccb-4278-c10c-855374ca32a4"
      },
      "execution_count": 26,
      "outputs": [
        {
          "output_type": "stream",
          "name": "stdout",
          "text": [
            "target\n",
            "0    50\n",
            "1    50\n",
            "2    50\n",
            "Name: count, dtype: int64\n"
          ]
        }
      ]
    },
    {
      "cell_type": "code",
      "source": [
        "# Plot class distribution\n",
        "plt.figure(figsize=(6, 4))\n",
        "class_distribution.plot(kind='bar', color='pink')\n",
        "plt.title('Iris Dataset Class Distribution')\n",
        "plt.xlabel('Class')\n",
        "plt.ylabel('# of Samples')\n",
        "plt.xticks(ticks=[0, 1, 2], labels=iris.target_names, rotation=0)\n",
        "plt.show()"
      ],
      "metadata": {
        "colab": {
          "base_uri": "https://localhost:8080/",
          "height": 410
        },
        "id": "i7nP6uTgXIGm",
        "outputId": "40f084eb-6bc7-44fe-9f4d-807f0e789b78"
      },
      "execution_count": 28,
      "outputs": [
        {
          "output_type": "display_data",
          "data": {
            "text/plain": [
              "<Figure size 600x400 with 1 Axes>"
            ],
            "image/png": "[encoded data removed]"
          },
          "metadata": {}
        }
      ]
    },
    {
      "cell_type": "code",
      "source": [
        "# Find optimal threshold (maximizing balanced accuracy)\n",
        "\n",
        "balanced_accuracy = (tpr + (1 - fpr)) / 2\n",
        "\n",
        "optimal_idx = np.argmax(balanced_accuracy)\n",
        "\n",
        "optimal_threshold = thresholds[optimal_idx]\n",
        "\n",
        "# Apply optimal threshold to get final predictions\n",
        "\n",
        "y_pred_optimal = (y_pred_proba >= optimal_threshold).astype(int)"
      ],
      "metadata": {
        "id": "TwMR6ww8YJ6R"
      },
      "execution_count": 20,
      "outputs": []
    },
    {
      "cell_type": "code",
      "source": [
        "# Calculate metrics with optimal threshold\n",
        "\n",
        "sensitivity_optimal, specificity_optimal, accuracy_optimal, balanced_acc_optimal = calculate_metrics(y, y_pred_optimal)\n"
      ],
      "metadata": {
        "id": "OhkDeJovYJ84"
      },
      "execution_count": 21,
      "outputs": []
    },
    {
      "cell_type": "code",
      "source": [
        "# Plot ROC curve\n",
        "\n",
        "plt.figure(figsize=(8, 6))\n",
        "\n",
        "plt.plot(fpr, tpr, color='blue', label=f'ROC curve (AUC = {auc:.2f})')\n",
        "\n",
        "plt.plot([0, 1], [0, 1], color='pink', linestyle='--', label='Random classifier')\n",
        "\n",
        "plt.xlabel('False Positive Rate')\n",
        "\n",
        "plt.ylabel('True Positive Rate')\n",
        "\n",
        "plt.title('Receiver Operating Characteristic (ROC) Curve')\n",
        "\n",
        "plt.legend()\n",
        "\n",
        "plt.show()"
      ],
      "metadata": {
        "colab": {
          "base_uri": "https://localhost:8080/",
          "height": 564
        },
        "id": "hIpKdmdHPmKd",
        "outputId": "0e2d0c52-8139-486f-a6ec-a6dc69ed8341"
      },
      "execution_count": 23,
      "outputs": [
        {
          "output_type": "display_data",
          "data": {
            "text/plain": [
              "<Figure size 800x600 with 1 Axes>"
            ],
            "image/png": "[encoded data removed]"
          },
          "metadata": {}
        }
      ]
    },
    {
      "cell_type": "code",
      "source": [
        "print(\"Metrics with default threshold (0.5):\")\n",
        "\n",
        "print(f\"Sensitivity: {sensitivity_default:.2f}\")\n",
        "\n",
        "print(f\"Specificity: {specificity_default:.2f}\")\n",
        "\n",
        "print(f\"Accuracy: {accuracy_default:.2f}\")\n",
        "\n",
        "print(f\"Balanced Accuracy: {balanced_acc_default:.2f}\")"
      ],
      "metadata": {
        "colab": {
          "base_uri": "https://localhost:8080/"
        },
        "id": "Tx5veo0qPmRV",
        "outputId": "0c3f173a-d0d0-47aa-d26f-7deef0bde3f2"
      },
      "execution_count": 24,
      "outputs": [
        {
          "output_type": "stream",
          "name": "stdout",
          "text": [
            "Metrics with default threshold (0.5):\n",
            "Sensitivity: 0.86\n",
            "Specificity: 0.94\n",
            "Accuracy: 0.91\n",
            "Balanced Accuracy: 0.90\n"
          ]
        }
      ]
    },
    {
      "cell_type": "code",
      "source": [
        "print(\"\\nMetrics with optimal threshold:\")\n",
        "\n",
        "print(f\"Optimal threshold: {optimal_threshold:.2f}\")\n",
        "\n",
        "print(f\"Sensitivity: {sensitivity_optimal:.2f}\")\n",
        "\n",
        "print(f\"Specificity: {specificity_optimal:.2f}\")\n",
        "\n",
        "print(f\"Accuracy: {accuracy_optimal:.2f}\")\n",
        "\n",
        "print(f\"Balanced Accuracy: {balanced_acc_optimal:.2f}\")"
      ],
      "metadata": {
        "colab": {
          "base_uri": "https://localhost:8080/"
        },
        "id": "SBqA-rX4RH9x",
        "outputId": "cc1bef9a-8d13-409b-b52c-f32c266e48cf"
      },
      "execution_count": 25,
      "outputs": [
        {
          "output_type": "stream",
          "name": "stdout",
          "text": [
            "\n",
            "Metrics with optimal threshold:\n",
            "Optimal threshold: 0.47\n",
            "Sensitivity: 0.90\n",
            "Specificity: 0.93\n",
            "Accuracy: 0.92\n",
            "Balanced Accuracy: 0.92\n"
          ]
        }
      ]
    },
    {
      "cell_type": "code",
      "source": [
        "#Precision, Recall, and F1-Score for default threshold (0.5)\n",
        "precision_default = precision_score(y, y_pred_default, average='micro')\n",
        "recall_default = recall_score(y, y_pred_default, average='micro')\n",
        "f1_default = f1_score(y, y_pred_default, average='micro')\n",
        "\n",
        "#Precision, Recall, and F1-Score for optimal threshold (0.47)\n",
        "precision_optimal = precision_score(y, y_pred_optimal, average='micro')\n",
        "recall_optimal = recall_score(y, y_pred_optimal, average='micro')\n",
        "f1_optimal = f1_score(y, y_pred_optimal, average='micro')\n",
        "\n",
        "print(\"Metrics with default threshold (0.5):\")\n",
        "print(f\"Precision: {precision_default:.2f}\")\n",
        "print(f\"Recall: {recall_default:.2f}\")\n",
        "print(f\"F1-Score: {f1_default:.2f}\")\n",
        "\n",
        "print(\"\\nMetrics with optimal threshold:\")\n",
        "print(f\"Precision: {precision_optimal:.2f}\")\n",
        "print(f\"Recall: {recall_optimal:.2f}\")\n",
        "print(f\"F1-Score: {f1_optimal:.2f}\")"
      ],
      "metadata": {
        "colab": {
          "base_uri": "https://localhost:8080/"
        },
        "id": "ppwvdZY5mgzX",
        "outputId": "a7b3ada0-1c22-443d-96c2-c12cbbb549e0"
      },
      "execution_count": 42,
      "outputs": [
        {
          "output_type": "stream",
          "name": "stdout",
          "text": [
            "Metrics with default threshold (0.5):\n",
            "Precision: 0.37\n",
            "Recall: 0.37\n",
            "F1-Score: 0.37\n",
            "\n",
            "Metrics with optimal threshold:\n",
            "Precision: 0.38\n",
            "Recall: 0.38\n",
            "F1-Score: 0.38\n"
          ]
        }
      ]
    },
    {
      "cell_type": "markdown",
      "source": [
        "Advantages of this approach:\n",
        "\n",
        "Preserves the original data distribution during training\n",
        "Allows fine-tuning of the model's behavior without retraining.\n",
        "Can be more interpretable in some contexts (e.g., in medical diagnosis where we might want to explicitly set sensitivity/specificity targets).\n",
        "\n",
        "Disadvantages:\n",
        "\n",
        "May not work well if the model struggles to learn from the minority class in the first place.\n",
        "Can be sensitive to changes in the test set's class distribution.\n",
        "Might not fully utilize the potential of the model to learn complex decision boundaries.\n",
        "This threshold adjustment approach complements the ensemble methods used in the original code, offering another layer of flexibility in handling class imbalance and optimizing model performance."
      ],
      "metadata": {
        "id": "diEcnvLlRsmY"
      }
    },
    {
      "cell_type": "markdown",
      "source": [
        "###END###"
      ],
      "metadata": {
        "id": "0XoFLsLmWjaO"
      }
    }
  ]
}