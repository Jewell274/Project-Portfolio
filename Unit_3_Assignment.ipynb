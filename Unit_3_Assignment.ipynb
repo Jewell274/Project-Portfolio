{
  "nbformat": 4,
  "nbformat_minor": 0,
  "metadata": {
    "colab": {
      "provenance": [],
      "machine_shape": "hm",
      "gpuType": "T4"
    },
    "kernelspec": {
      "name": "python3",
      "display_name": "Python 3"
    },
    "language_info": {
      "name": "python"
    },
    "accelerator": "GPU"
  },
  "cells": [
    {
      "cell_type": "code",
      "execution_count": 3,
      "metadata": {
        "id": "vIoHf9KC1y0P"
      },
      "outputs": [],
      "source": [
        "# All Imports\n",
        "import numpy as np\n",
        "import pandas as pd"
      ]
    },
    {
      "cell_type": "code",
      "source": [
        "# SciPy / sklearn\n",
        "from sklearn import svm\n",
        "from sklearn.model_selection import train_test_split\n",
        "from sklearn.preprocessing import StandardScaler\n",
        "from sklearn.metrics import confusion_matrix, accuracy_score, balanced_accuracy_score, recall_score, precision_score"
      ],
      "metadata": {
        "id": "FZBh3R-z2uHL"
      },
      "execution_count": null,
      "outputs": []
    },
    {
      "cell_type": "code",
      "source": [
        "###Install spark on google colab\n",
        "!sudo apt update\n",
        "\n",
        "!apt-get install openjdk-8-jdk-headless -qq > /dev/null\n",
        "\n",
        "#Check this site for the latest download link https://www.apache.org/dyn/closer.lua/spark/spark-3.2.1/spark-3.2.1-bin-hadoop3.2.tgz\n",
        "\n",
        "!wget -q https://dlcdn.apache.org/spark/spark-3.2.1/spark-3.2.1-bin-hadoop3.2.tgz\n",
        "\n",
        "!tar xf spark-3.2.1-bin-hadoop3.2.tgz\n",
        "\n",
        "!pip install -q findspark\n",
        "\n",
        "!pip install pyspark\n",
        "\n",
        "!pip install py4j\n",
        "\n",
        "\n",
        "\n",
        "import os\n",
        "\n",
        "import sys\n",
        "\n",
        "# os.environ[\"JAVA_HOME\"] = \"/usr/lib/jvm/java-8-openjdk-amd64\"\n",
        "\n",
        "# os.environ[\"SPARK_HOME\"] = \"/content/spark-3.2.1-bin-hadoop3.2\"\n",
        "\n",
        "\n",
        "\n",
        "import findspark\n",
        "\n",
        "findspark.init()\n",
        "\n",
        "findspark.find()\n",
        "\n",
        "\n",
        "\n",
        "import pyspark\n",
        "\n",
        "\n",
        "\n",
        "from pyspark.sql import DataFrame, SparkSession\n",
        "\n",
        "from typing import List\n",
        "\n",
        "import pyspark.sql.types as T\n",
        "\n",
        "import pyspark.sql.functions as F"
      ],
      "metadata": {
        "colab": {
          "base_uri": "https://localhost:8080/"
        },
        "id": "2cAkHtVM4sCH",
        "outputId": "906fbe23-ed94-49cf-c482-321d839db7b2"
      },
      "execution_count": null,
      "outputs": [
        {
          "output_type": "stream",
          "name": "stdout",
          "text": [
            "\u001b[33m\r0% [Working]\u001b[0m\r            \rHit:1 https://developer.download.nvidia.com/compute/cuda/repos/ubuntu2204/x86_64  InRelease\n",
            "Hit:2 https://cloud.r-project.org/bin/linux/ubuntu jammy-cran40/ InRelease\n",
            "Hit:3 http://security.ubuntu.com/ubuntu jammy-security InRelease\n",
            "Hit:4 http://archive.ubuntu.com/ubuntu jammy InRelease\n",
            "Hit:5 http://archive.ubuntu.com/ubuntu jammy-updates InRelease\n",
            "Hit:6 http://archive.ubuntu.com/ubuntu jammy-backports InRelease\n",
            "Hit:7 https://ppa.launchpadcontent.net/deadsnakes/ppa/ubuntu jammy InRelease\n",
            "Hit:8 https://ppa.launchpadcontent.net/graphics-drivers/ppa/ubuntu jammy InRelease\n",
            "Hit:9 https://r2u.stat.illinois.edu/ubuntu jammy InRelease\n",
            "Hit:10 https://ppa.launchpadcontent.net/ubuntugis/ppa/ubuntu jammy InRelease\n",
            "Reading package lists... Done\n",
            "Building dependency tree... Done\n",
            "Reading state information... Done\n",
            "39 packages can be upgraded. Run 'apt list --upgradable' to see them.\n",
            "\u001b[1;33mW: \u001b[0mSkipping acquire of configured file 'main/source/Sources' as repository 'https://r2u.stat.illinois.edu/ubuntu jammy InRelease' does not seem to provide it (sources.list entry misspelt?)\u001b[0m\n",
            "Requirement already satisfied: pyspark in /usr/local/lib/python3.11/dist-packages (3.5.5)\n",
            "Requirement already satisfied: py4j==0.10.9.7 in /usr/local/lib/python3.11/dist-packages (from pyspark) (0.10.9.7)\n",
            "Requirement already satisfied: py4j in /usr/local/lib/python3.11/dist-packages (0.10.9.7)\n"
          ]
        }
      ]
    },
    {
      "cell_type": "code",
      "source": [
        "# Spark\n",
        "from pyspark.sql import SparkSession\n",
        "from pyspark.ml.classification import LinearSVC\n",
        "from pyspark.ml.feature import VectorAssembler, StandardScaler as SparkStandardScaler\n",
        "from pyspark.ml import Pipeline\n",
        "from pyspark.sql.functions import col, when"
      ],
      "metadata": {
        "id": "yAZh-qND2uVi"
      },
      "execution_count": 4,
      "outputs": []
    },
    {
      "cell_type": "code",
      "source": [
        "# EDA"
      ],
      "metadata": {
        "id": "DbRCc2I6MqKM"
      },
      "execution_count": 5,
      "outputs": []
    },
    {
      "cell_type": "code",
      "source": [
        "spark = SparkSession.builder.appName(\"ProsperLinearSVM\").getOrCreate()\n",
        "\n",
        "data = spark.read.csv(\"Prosper data set.csv\", header=True, inferSchema=True)\n",
        "\n",
        "# Drop missing rows\n",
        "data = data.dropna(subset=[\"BorrowerRate\"])\n",
        "data = data.withColumn(\"BorrowerRateBinary\", when(col(\"BorrowerRate\") > 0.222, 1).otherwise(0))\n",
        "\n",
        "# select min feature\n",
        "features = [\"BorrowerMaximumRate\", \"ProsperScore\", \"CreditScoreRangeLower\", \"CreditScoreRangeUpper\"]\n",
        "assembler = VectorAssembler(inputCols=features, outputCol=\"features\")\n",
        "scaler = SparkStandardScaler(inputCol=\"features\", outputCol=\"scaledFeatures\")"
      ],
      "metadata": {
        "id": "ofCEk7gI4JYA"
      },
      "execution_count": 8,
      "outputs": []
    },
    {
      "cell_type": "code",
      "source": [
        "eda_cols = [\"BorrowerMaximumRate\", \"ProsperScore\", \"CreditScoreRangeLower\", \"CreditScoreRangeUpper\", \"BorrowerRate\"]\n",
        "df_eda = data.select(eda_cols).dropna()\n",
        "\n",
        "from pyspark.sql.functions import when\n",
        "\n",
        "median_rate = df_eda.approxQuantile(\"BorrowerRate\", [0.5], 0.001)[0]\n",
        "df_eda = df_eda.withColumn(\"BorrowerRateBinary\", when(col(\"BorrowerRate\") > median_rate, 1).otherwise(0))\n",
        "\n",
        "#correlation matrix\n",
        "correlations = {}\n",
        "for col1 in eda_cols[:-1] + [\"BorrowerRateBinary\"]:\n",
        "    for col2 in eda_cols[:-1] + [\"BorrowerRateBinary\"]:\n",
        "        correlations[(col1, col2)] = df_eda.stat.corr(col1, col2)\n",
        "\n",
        "#convert to Pandas for heatmap\n",
        "import pandas as pd\n",
        "\n",
        "cols = eda_cols[:-1] + [\"BorrowerRateBinary\"]\n",
        "corr_matrix = pd.DataFrame(index=cols, columns=cols)\n",
        "\n",
        "for (c1, c2), val in correlations.items():\n",
        "    corr_matrix.loc[c1, c2] = val\n",
        "\n",
        "corr_matrix = corr_matrix.astype(float)"
      ],
      "metadata": {
        "id": "Gb802jcENKMj"
      },
      "execution_count": 9,
      "outputs": []
    },
    {
      "cell_type": "code",
      "source": [
        "df_eda.dtypes"
      ],
      "metadata": {
        "colab": {
          "base_uri": "https://localhost:8080/"
        },
        "id": "UiuYnPaEQe3R",
        "outputId": "4b1e081d-ced9-43f9-f7ba-83952bee151c"
      },
      "execution_count": 12,
      "outputs": [
        {
          "output_type": "execute_result",
          "data": {
            "text/plain": [
              "[('BorrowerMaximumRate', 'double'),\n",
              " ('ProsperScore', 'int'),\n",
              " ('CreditScoreRangeLower', 'int'),\n",
              " ('CreditScoreRangeUpper', 'int'),\n",
              " ('BorrowerRate', 'double'),\n",
              " ('BorrowerRateBinary', 'int')]"
            ]
          },
          "metadata": {},
          "execution_count": 12
        }
      ]
    },
    {
      "cell_type": "code",
      "source": [
        "import matplotlib.pyplot as plt\n",
        "import seaborn as sns\n",
        "\n",
        "plt.figure(figsize=(8, 6))\n",
        "sns.heatmap(corr_matrix, annot=True, cmap=\"twilight\", fmt=\".2f\", linewidths=0.5)\n",
        "plt.title(\"Correlation Heatmap of Selected Features (Spark EDA)\")\n",
        "plt.tight_layout()\n",
        "plt.show()"
      ],
      "metadata": {
        "colab": {
          "base_uri": "https://localhost:8080/",
          "height": 607
        },
        "id": "ATG-H7sGOLQZ",
        "outputId": "fa2ef2c7-bf87-430b-f5e6-6fe1cd1f2044"
      },
      "execution_count": 10,
      "outputs": [
        {
          "output_type": "display_data",
          "data": {
            "text/plain": [
              "<Figure size 800x600 with 2 Axes>"
            ],
            "image/png": "[encoded data removed]"
          },
          "metadata": {}
        }
      ]
    },
    {
      "cell_type": "code",
      "source": [
        "# Linear vs. Non-Linear SVM: Spark vs. SciPy"
      ],
      "metadata": {
        "id": "i2QGjwjbrtZy"
      },
      "execution_count": null,
      "outputs": []
    },
    {
      "cell_type": "code",
      "source": [
        "# Spark: Linear SVM"
      ],
      "metadata": {
        "id": "wCf6KE0g3994"
      },
      "execution_count": null,
      "outputs": []
    },
    {
      "cell_type": "code",
      "source": [
        "pipeline = Pipeline(stages=[assembler, scaler])\n",
        "pipeline_model = pipeline.fit(data)\n",
        "processed_data = pipeline_model.transform(data).select(\"scaledFeatures\", \"BorrowerRateBinary\")\n",
        "processed_data = processed_data.withColumnRenamed(\"BorrowerRateBinary\", \"label\")\n",
        "\n",
        "#split\n",
        "train_data, test_data = processed_data.randomSplit([0.8, 0.2], seed=42)\n",
        "\n",
        "#train SVM\n",
        "lsvc = LinearSVC(featuresCol=\"scaledFeatures\", labelCol=\"label\")\n",
        "model = lsvc.fit(train_data)"
      ],
      "metadata": {
        "id": "4_JPyrEr4Jdv"
      },
      "execution_count": null,
      "outputs": []
    },
    {
      "cell_type": "code",
      "source": [
        "# Evaluate"
      ],
      "metadata": {
        "id": "_vghmpTA4Jg5"
      },
      "execution_count": null,
      "outputs": []
    },
    {
      "cell_type": "code",
      "source": [
        "def evaluate(predictions, label_col=\"label\"):\n",
        "    tp = predictions.filter((col(\"prediction\") == 1) & (col(label_col) == 1)).count()\n",
        "    tn = predictions.filter((col(\"prediction\") == 0) & (col(label_col) == 0)).count()\n",
        "    fp = predictions.filter((col(\"prediction\") == 1) & (col(label_col) == 0)).count()\n",
        "    fn = predictions.filter((col(\"prediction\") == 0) & (col(label_col) == 1)).count()\n",
        "    acc = (tp + tn) / (tp + tn + fp + fn)\n",
        "    sens = tp / (tp + fn) if (tp + fn) > 0 else 0\n",
        "    spec = tn / (tn + fp) if (tn + fp) > 0 else 0\n",
        "    bal_acc = (sens + spec) / 2\n",
        "    return acc, sens, spec, bal_acc\n",
        "\n",
        "#predictions\n",
        "train_pred = model.transform(train_data)\n",
        "test_pred = model.transform(test_data)\n",
        "\n",
        "print(\"Spark - Training Metrics:\")\n",
        "print(evaluate(train_pred))\n",
        "print(\"Spark - Testing Metrics:\")\n",
        "print(evaluate(test_pred))\n",
        "\n",
        "spark.stop()"
      ],
      "metadata": {
        "colab": {
          "base_uri": "https://localhost:8080/"
        },
        "id": "_Hq0QGAq4Jj8",
        "outputId": "4f5c04a2-14a8-42ca-a660-f88f863e8b85"
      },
      "execution_count": null,
      "outputs": [
        {
          "output_type": "stream",
          "name": "stdout",
          "text": [
            "Spark - Training Metrics:\n",
            "(0.9989937468554589, 0.997958886135005, 1.0, 0.9989794430675025)\n",
            "Spark - Testing Metrics:\n",
            "(0.9994168246100015, 0.998844598497978, 1.0, 0.999422299248989)\n"
          ]
        }
      ]
    },
    {
      "cell_type": "code",
      "source": [
        "# SciPy: Non-linear SVM"
      ],
      "metadata": {
        "id": "nfYOFBM54Jmz"
      },
      "execution_count": null,
      "outputs": []
    },
    {
      "cell_type": "code",
      "source": [
        "df = pd.read_csv(\"Prosper data set.csv\")\n",
        "df = df.dropna(subset=[\"BorrowerRate\"])\n",
        "df[\"BorrowerRateBinary\"] = (df[\"BorrowerRate\"] > 0.222).astype(int)\n",
        "\n",
        "#select features\n",
        "X = df[[\"BorrowerMaximumRate\", \"ProsperScore\", \"CreditScoreRangeLower\", \"CreditScoreRangeUpper\"]]\n",
        "y = df[\"BorrowerRateBinary\"]"
      ],
      "metadata": {
        "id": "2MtJtIGL4Jpf"
      },
      "execution_count": null,
      "outputs": []
    },
    {
      "cell_type": "code",
      "source": [
        "#split\n",
        "X_train, X_test, y_train, y_test = train_test_split(X, y, test_size=0.2, random_state=42)\n",
        "\n",
        "#scale\n",
        "scaler = StandardScaler()\n",
        "X_train_scaled = scaler.fit_transform(X_train)\n",
        "X_test_scaled = scaler.transform(X_test)\n",
        "\n",
        "#train\n",
        "model = svm.SVC(kernel='rbf')\n",
        "model.fit(X_train_scaled, y_train)\n",
        "\n",
        "y_train_pred = model.predict(X_train_scaled)\n",
        "y_test_pred = model.predict(X_test_scaled)"
      ],
      "metadata": {
        "id": "stySa6pf606I"
      },
      "execution_count": null,
      "outputs": []
    },
    {
      "cell_type": "code",
      "source": [
        "# Evaliate"
      ],
      "metadata": {
        "id": "UDz3rx2l61Hy"
      },
      "execution_count": null,
      "outputs": []
    },
    {
      "cell_type": "code",
      "source": [
        "def evaluate_metrics(y_true, y_pred):\n",
        "    cm = confusion_matrix(y_true, y_pred)\n",
        "    tn, fp, fn, tp = cm.ravel()\n",
        "    acc = accuracy_score(y_true, y_pred)\n",
        "    sens = recall_score(y_true, y_pred)\n",
        "    spec = tn / (tn + fp)\n",
        "    bal_acc = balanced_accuracy_score(y_true, y_pred)\n",
        "    return acc, sens, spec, bal_acc, cm\n",
        "\n",
        "print(\"SciPy - Training Metrics:\")\n",
        "print(evaluate_metrics(y_train, y_train_pred))\n",
        "print(\"SciPy - Testing Metrics:\")\n",
        "print(evaluate_metrics(y_test, y_test_pred))"
      ],
      "metadata": {
        "colab": {
          "base_uri": "https://localhost:8080/"
        },
        "id": "Igap4aXq61OZ",
        "outputId": "8b7e6dd5-1cd0-4935-a905-0c18eeb4fe82"
      },
      "execution_count": null,
      "outputs": [
        {
          "output_type": "stream",
          "name": "stdout",
          "text": [
            "SciPy - Training Metrics:\n",
            "(0.9979818365287588, 0.9962960273077203, np.float64(0.9996423206237929), np.float64(0.9979691739657566), array([[13974,     5],\n",
            "       [   51, 13718]]))\n",
            "SciPy - Testing Metrics:\n",
            "(0.9979818365287588, 0.9967751392553503, np.float64(0.999149177538287), np.float64(0.9979621583968187), array([[3523,    3],\n",
            "       [  11, 3400]]))\n"
          ]
        }
      ]
    },
    {
      "cell_type": "code",
      "source": [
        "###END###"
      ],
      "metadata": {
        "id": "kFUfViJw61Rg"
      },
      "execution_count": null,
      "outputs": []
    }
  ]
}